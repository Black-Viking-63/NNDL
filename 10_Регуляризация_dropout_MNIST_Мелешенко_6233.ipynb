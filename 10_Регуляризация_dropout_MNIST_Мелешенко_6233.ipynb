{
  "nbformat": 4,
  "nbformat_minor": 0,
  "metadata": {
    "colab": {
      "provenance": [],
      "toc_visible": true
    },
    "kernelspec": {
      "name": "python3",
      "display_name": "Python 3"
    },
    "language_info": {
      "name": "python"
    }
  },
  "cells": [
    {
      "cell_type": "markdown",
      "source": [
        "# Подготовка данных"
      ],
      "metadata": {
        "id": "dz-UZ1eu420T"
      }
    },
    {
      "cell_type": "markdown",
      "source": [
        "## Подключение библиотек"
      ],
      "metadata": {
        "id": "0fH7qEpw4veU"
      }
    },
    {
      "cell_type": "code",
      "execution_count": 20,
      "metadata": {
        "id": "9cPkxz9n4ZId"
      },
      "outputs": [],
      "source": [
        "import pandas as pd\n",
        "import numpy as np\n",
        "import seaborn as sns\n",
        "import matplotlib.pyplot as plt\n",
        "from sklearn import preprocessing\n",
        "from sklearn.metrics import accuracy_score\n",
        "from sklearn.preprocessing import OneHotEncoder"
      ]
    },
    {
      "cell_type": "markdown",
      "source": [
        "## Подключение Google-drive"
      ],
      "metadata": {
        "id": "YcT7rWNL5Kcj"
      }
    },
    {
      "cell_type": "code",
      "source": [
        "from google.colab import drive\n",
        "drive.mount('/content/drive')"
      ],
      "metadata": {
        "colab": {
          "base_uri": "https://localhost:8080/"
        },
        "id": "tThIR7hi5Gqw",
        "outputId": "928cf40e-768d-4f43-ab06-afad2844e65e"
      },
      "execution_count": 21,
      "outputs": [
        {
          "output_type": "stream",
          "name": "stdout",
          "text": [
            "Drive already mounted at /content/drive; to attempt to forcibly remount, call drive.mount(\"/content/drive\", force_remount=True).\n"
          ]
        }
      ]
    },
    {
      "cell_type": "markdown",
      "source": [
        "## Загрузка данных"
      ],
      "metadata": {
        "id": "_Qo5-4Gy5Tcj"
      }
    },
    {
      "cell_type": "code",
      "source": [
        "data_train = pd.read_csv('/content/drive/MyDrive/datasets/mnist_train.csv')\n",
        "data_test = pd.read_csv('/content/drive/MyDrive/datasets/mnist_test.csv')"
      ],
      "metadata": {
        "id": "kpb8d0Ur5J3b"
      },
      "execution_count": 22,
      "outputs": []
    },
    {
      "cell_type": "markdown",
      "source": [
        "## Ограничение набора данных"
      ],
      "metadata": {
        "id": "Ff_O8JyK6ONt"
      }
    },
    {
      "cell_type": "code",
      "source": [
        "data_train = data_train[:1000]\n",
        "data_test = data_test[:200]"
      ],
      "metadata": {
        "id": "urCyRDSf6FSj"
      },
      "execution_count": 23,
      "outputs": []
    },
    {
      "cell_type": "markdown",
      "source": [
        "## Просмотрим полученные тренировочные данные"
      ],
      "metadata": {
        "id": "hBdOZTip6XD2"
      }
    },
    {
      "cell_type": "markdown",
      "source": [
        "### Датасет"
      ],
      "metadata": {
        "id": "iP7yBY4C8M0b"
      }
    },
    {
      "cell_type": "code",
      "source": [
        "data_train"
      ],
      "metadata": {
        "colab": {
          "base_uri": "https://localhost:8080/",
          "height": 424
        },
        "id": "ztzMZya-8Lfs",
        "outputId": "53bfcb47-0cc9-4aa9-9ad8-13fc529519a2"
      },
      "execution_count": 24,
      "outputs": [
        {
          "output_type": "execute_result",
          "data": {
            "text/plain": [
              "     label  1x1  1x2  1x3  1x4  1x5  1x6  1x7  1x8  1x9  ...  28x19  28x20  \\\n",
              "0        5    0    0    0    0    0    0    0    0    0  ...      0      0   \n",
              "1        0    0    0    0    0    0    0    0    0    0  ...      0      0   \n",
              "2        4    0    0    0    0    0    0    0    0    0  ...      0      0   \n",
              "3        1    0    0    0    0    0    0    0    0    0  ...      0      0   \n",
              "4        9    0    0    0    0    0    0    0    0    0  ...      0      0   \n",
              "..     ...  ...  ...  ...  ...  ...  ...  ...  ...  ...  ...    ...    ...   \n",
              "995      7    0    0    0    0    0    0    0    0    0  ...      0      0   \n",
              "996      6    0    0    0    0    0    0    0    0    0  ...      0      0   \n",
              "997      0    0    0    0    0    0    0    0    0    0  ...      0      0   \n",
              "998      3    0    0    0    0    0    0    0    0    0  ...      0      0   \n",
              "999      6    0    0    0    0    0    0    0    0    0  ...      0      0   \n",
              "\n",
              "     28x21  28x22  28x23  28x24  28x25  28x26  28x27  28x28  \n",
              "0        0      0      0      0      0      0      0      0  \n",
              "1        0      0      0      0      0      0      0      0  \n",
              "2        0      0      0      0      0      0      0      0  \n",
              "3        0      0      0      0      0      0      0      0  \n",
              "4        0      0      0      0      0      0      0      0  \n",
              "..     ...    ...    ...    ...    ...    ...    ...    ...  \n",
              "995      0      0      0      0      0      0      0      0  \n",
              "996      0      0      0      0      0      0      0      0  \n",
              "997      0      0      0      0      0      0      0      0  \n",
              "998      0      0      0      0      0      0      0      0  \n",
              "999      0      0      0      0      0      0      0      0  \n",
              "\n",
              "[1000 rows x 785 columns]"
            ],
            "text/html": [
              "\n",
              "  <div id=\"df-49b3135d-1a57-48b8-b872-98fc58472c4c\">\n",
              "    <div class=\"colab-df-container\">\n",
              "      <div>\n",
              "<style scoped>\n",
              "    .dataframe tbody tr th:only-of-type {\n",
              "        vertical-align: middle;\n",
              "    }\n",
              "\n",
              "    .dataframe tbody tr th {\n",
              "        vertical-align: top;\n",
              "    }\n",
              "\n",
              "    .dataframe thead th {\n",
              "        text-align: right;\n",
              "    }\n",
              "</style>\n",
              "<table border=\"1\" class=\"dataframe\">\n",
              "  <thead>\n",
              "    <tr style=\"text-align: right;\">\n",
              "      <th></th>\n",
              "      <th>label</th>\n",
              "      <th>1x1</th>\n",
              "      <th>1x2</th>\n",
              "      <th>1x3</th>\n",
              "      <th>1x4</th>\n",
              "      <th>1x5</th>\n",
              "      <th>1x6</th>\n",
              "      <th>1x7</th>\n",
              "      <th>1x8</th>\n",
              "      <th>1x9</th>\n",
              "      <th>...</th>\n",
              "      <th>28x19</th>\n",
              "      <th>28x20</th>\n",
              "      <th>28x21</th>\n",
              "      <th>28x22</th>\n",
              "      <th>28x23</th>\n",
              "      <th>28x24</th>\n",
              "      <th>28x25</th>\n",
              "      <th>28x26</th>\n",
              "      <th>28x27</th>\n",
              "      <th>28x28</th>\n",
              "    </tr>\n",
              "  </thead>\n",
              "  <tbody>\n",
              "    <tr>\n",
              "      <th>0</th>\n",
              "      <td>5</td>\n",
              "      <td>0</td>\n",
              "      <td>0</td>\n",
              "      <td>0</td>\n",
              "      <td>0</td>\n",
              "      <td>0</td>\n",
              "      <td>0</td>\n",
              "      <td>0</td>\n",
              "      <td>0</td>\n",
              "      <td>0</td>\n",
              "      <td>...</td>\n",
              "      <td>0</td>\n",
              "      <td>0</td>\n",
              "      <td>0</td>\n",
              "      <td>0</td>\n",
              "      <td>0</td>\n",
              "      <td>0</td>\n",
              "      <td>0</td>\n",
              "      <td>0</td>\n",
              "      <td>0</td>\n",
              "      <td>0</td>\n",
              "    </tr>\n",
              "    <tr>\n",
              "      <th>1</th>\n",
              "      <td>0</td>\n",
              "      <td>0</td>\n",
              "      <td>0</td>\n",
              "      <td>0</td>\n",
              "      <td>0</td>\n",
              "      <td>0</td>\n",
              "      <td>0</td>\n",
              "      <td>0</td>\n",
              "      <td>0</td>\n",
              "      <td>0</td>\n",
              "      <td>...</td>\n",
              "      <td>0</td>\n",
              "      <td>0</td>\n",
              "      <td>0</td>\n",
              "      <td>0</td>\n",
              "      <td>0</td>\n",
              "      <td>0</td>\n",
              "      <td>0</td>\n",
              "      <td>0</td>\n",
              "      <td>0</td>\n",
              "      <td>0</td>\n",
              "    </tr>\n",
              "    <tr>\n",
              "      <th>2</th>\n",
              "      <td>4</td>\n",
              "      <td>0</td>\n",
              "      <td>0</td>\n",
              "      <td>0</td>\n",
              "      <td>0</td>\n",
              "      <td>0</td>\n",
              "      <td>0</td>\n",
              "      <td>0</td>\n",
              "      <td>0</td>\n",
              "      <td>0</td>\n",
              "      <td>...</td>\n",
              "      <td>0</td>\n",
              "      <td>0</td>\n",
              "      <td>0</td>\n",
              "      <td>0</td>\n",
              "      <td>0</td>\n",
              "      <td>0</td>\n",
              "      <td>0</td>\n",
              "      <td>0</td>\n",
              "      <td>0</td>\n",
              "      <td>0</td>\n",
              "    </tr>\n",
              "    <tr>\n",
              "      <th>3</th>\n",
              "      <td>1</td>\n",
              "      <td>0</td>\n",
              "      <td>0</td>\n",
              "      <td>0</td>\n",
              "      <td>0</td>\n",
              "      <td>0</td>\n",
              "      <td>0</td>\n",
              "      <td>0</td>\n",
              "      <td>0</td>\n",
              "      <td>0</td>\n",
              "      <td>...</td>\n",
              "      <td>0</td>\n",
              "      <td>0</td>\n",
              "      <td>0</td>\n",
              "      <td>0</td>\n",
              "      <td>0</td>\n",
              "      <td>0</td>\n",
              "      <td>0</td>\n",
              "      <td>0</td>\n",
              "      <td>0</td>\n",
              "      <td>0</td>\n",
              "    </tr>\n",
              "    <tr>\n",
              "      <th>4</th>\n",
              "      <td>9</td>\n",
              "      <td>0</td>\n",
              "      <td>0</td>\n",
              "      <td>0</td>\n",
              "      <td>0</td>\n",
              "      <td>0</td>\n",
              "      <td>0</td>\n",
              "      <td>0</td>\n",
              "      <td>0</td>\n",
              "      <td>0</td>\n",
              "      <td>...</td>\n",
              "      <td>0</td>\n",
              "      <td>0</td>\n",
              "      <td>0</td>\n",
              "      <td>0</td>\n",
              "      <td>0</td>\n",
              "      <td>0</td>\n",
              "      <td>0</td>\n",
              "      <td>0</td>\n",
              "      <td>0</td>\n",
              "      <td>0</td>\n",
              "    </tr>\n",
              "    <tr>\n",
              "      <th>...</th>\n",
              "      <td>...</td>\n",
              "      <td>...</td>\n",
              "      <td>...</td>\n",
              "      <td>...</td>\n",
              "      <td>...</td>\n",
              "      <td>...</td>\n",
              "      <td>...</td>\n",
              "      <td>...</td>\n",
              "      <td>...</td>\n",
              "      <td>...</td>\n",
              "      <td>...</td>\n",
              "      <td>...</td>\n",
              "      <td>...</td>\n",
              "      <td>...</td>\n",
              "      <td>...</td>\n",
              "      <td>...</td>\n",
              "      <td>...</td>\n",
              "      <td>...</td>\n",
              "      <td>...</td>\n",
              "      <td>...</td>\n",
              "      <td>...</td>\n",
              "    </tr>\n",
              "    <tr>\n",
              "      <th>995</th>\n",
              "      <td>7</td>\n",
              "      <td>0</td>\n",
              "      <td>0</td>\n",
              "      <td>0</td>\n",
              "      <td>0</td>\n",
              "      <td>0</td>\n",
              "      <td>0</td>\n",
              "      <td>0</td>\n",
              "      <td>0</td>\n",
              "      <td>0</td>\n",
              "      <td>...</td>\n",
              "      <td>0</td>\n",
              "      <td>0</td>\n",
              "      <td>0</td>\n",
              "      <td>0</td>\n",
              "      <td>0</td>\n",
              "      <td>0</td>\n",
              "      <td>0</td>\n",
              "      <td>0</td>\n",
              "      <td>0</td>\n",
              "      <td>0</td>\n",
              "    </tr>\n",
              "    <tr>\n",
              "      <th>996</th>\n",
              "      <td>6</td>\n",
              "      <td>0</td>\n",
              "      <td>0</td>\n",
              "      <td>0</td>\n",
              "      <td>0</td>\n",
              "      <td>0</td>\n",
              "      <td>0</td>\n",
              "      <td>0</td>\n",
              "      <td>0</td>\n",
              "      <td>0</td>\n",
              "      <td>...</td>\n",
              "      <td>0</td>\n",
              "      <td>0</td>\n",
              "      <td>0</td>\n",
              "      <td>0</td>\n",
              "      <td>0</td>\n",
              "      <td>0</td>\n",
              "      <td>0</td>\n",
              "      <td>0</td>\n",
              "      <td>0</td>\n",
              "      <td>0</td>\n",
              "    </tr>\n",
              "    <tr>\n",
              "      <th>997</th>\n",
              "      <td>0</td>\n",
              "      <td>0</td>\n",
              "      <td>0</td>\n",
              "      <td>0</td>\n",
              "      <td>0</td>\n",
              "      <td>0</td>\n",
              "      <td>0</td>\n",
              "      <td>0</td>\n",
              "      <td>0</td>\n",
              "      <td>0</td>\n",
              "      <td>...</td>\n",
              "      <td>0</td>\n",
              "      <td>0</td>\n",
              "      <td>0</td>\n",
              "      <td>0</td>\n",
              "      <td>0</td>\n",
              "      <td>0</td>\n",
              "      <td>0</td>\n",
              "      <td>0</td>\n",
              "      <td>0</td>\n",
              "      <td>0</td>\n",
              "    </tr>\n",
              "    <tr>\n",
              "      <th>998</th>\n",
              "      <td>3</td>\n",
              "      <td>0</td>\n",
              "      <td>0</td>\n",
              "      <td>0</td>\n",
              "      <td>0</td>\n",
              "      <td>0</td>\n",
              "      <td>0</td>\n",
              "      <td>0</td>\n",
              "      <td>0</td>\n",
              "      <td>0</td>\n",
              "      <td>...</td>\n",
              "      <td>0</td>\n",
              "      <td>0</td>\n",
              "      <td>0</td>\n",
              "      <td>0</td>\n",
              "      <td>0</td>\n",
              "      <td>0</td>\n",
              "      <td>0</td>\n",
              "      <td>0</td>\n",
              "      <td>0</td>\n",
              "      <td>0</td>\n",
              "    </tr>\n",
              "    <tr>\n",
              "      <th>999</th>\n",
              "      <td>6</td>\n",
              "      <td>0</td>\n",
              "      <td>0</td>\n",
              "      <td>0</td>\n",
              "      <td>0</td>\n",
              "      <td>0</td>\n",
              "      <td>0</td>\n",
              "      <td>0</td>\n",
              "      <td>0</td>\n",
              "      <td>0</td>\n",
              "      <td>...</td>\n",
              "      <td>0</td>\n",
              "      <td>0</td>\n",
              "      <td>0</td>\n",
              "      <td>0</td>\n",
              "      <td>0</td>\n",
              "      <td>0</td>\n",
              "      <td>0</td>\n",
              "      <td>0</td>\n",
              "      <td>0</td>\n",
              "      <td>0</td>\n",
              "    </tr>\n",
              "  </tbody>\n",
              "</table>\n",
              "<p>1000 rows × 785 columns</p>\n",
              "</div>\n",
              "      <button class=\"colab-df-convert\" onclick=\"convertToInteractive('df-49b3135d-1a57-48b8-b872-98fc58472c4c')\"\n",
              "              title=\"Convert this dataframe to an interactive table.\"\n",
              "              style=\"display:none;\">\n",
              "        \n",
              "  <svg xmlns=\"http://www.w3.org/2000/svg\" height=\"24px\"viewBox=\"0 0 24 24\"\n",
              "       width=\"24px\">\n",
              "    <path d=\"M0 0h24v24H0V0z\" fill=\"none\"/>\n",
              "    <path d=\"M18.56 5.44l.94 2.06.94-2.06 2.06-.94-2.06-.94-.94-2.06-.94 2.06-2.06.94zm-11 1L8.5 8.5l.94-2.06 2.06-.94-2.06-.94L8.5 2.5l-.94 2.06-2.06.94zm10 10l.94 2.06.94-2.06 2.06-.94-2.06-.94-.94-2.06-.94 2.06-2.06.94z\"/><path d=\"M17.41 7.96l-1.37-1.37c-.4-.4-.92-.59-1.43-.59-.52 0-1.04.2-1.43.59L10.3 9.45l-7.72 7.72c-.78.78-.78 2.05 0 2.83L4 21.41c.39.39.9.59 1.41.59.51 0 1.02-.2 1.41-.59l7.78-7.78 2.81-2.81c.8-.78.8-2.07 0-2.86zM5.41 20L4 18.59l7.72-7.72 1.47 1.35L5.41 20z\"/>\n",
              "  </svg>\n",
              "      </button>\n",
              "      \n",
              "  <style>\n",
              "    .colab-df-container {\n",
              "      display:flex;\n",
              "      flex-wrap:wrap;\n",
              "      gap: 12px;\n",
              "    }\n",
              "\n",
              "    .colab-df-convert {\n",
              "      background-color: #E8F0FE;\n",
              "      border: none;\n",
              "      border-radius: 50%;\n",
              "      cursor: pointer;\n",
              "      display: none;\n",
              "      fill: #1967D2;\n",
              "      height: 32px;\n",
              "      padding: 0 0 0 0;\n",
              "      width: 32px;\n",
              "    }\n",
              "\n",
              "    .colab-df-convert:hover {\n",
              "      background-color: #E2EBFA;\n",
              "      box-shadow: 0px 1px 2px rgba(60, 64, 67, 0.3), 0px 1px 3px 1px rgba(60, 64, 67, 0.15);\n",
              "      fill: #174EA6;\n",
              "    }\n",
              "\n",
              "    [theme=dark] .colab-df-convert {\n",
              "      background-color: #3B4455;\n",
              "      fill: #D2E3FC;\n",
              "    }\n",
              "\n",
              "    [theme=dark] .colab-df-convert:hover {\n",
              "      background-color: #434B5C;\n",
              "      box-shadow: 0px 1px 3px 1px rgba(0, 0, 0, 0.15);\n",
              "      filter: drop-shadow(0px 1px 2px rgba(0, 0, 0, 0.3));\n",
              "      fill: #FFFFFF;\n",
              "    }\n",
              "  </style>\n",
              "\n",
              "      <script>\n",
              "        const buttonEl =\n",
              "          document.querySelector('#df-49b3135d-1a57-48b8-b872-98fc58472c4c button.colab-df-convert');\n",
              "        buttonEl.style.display =\n",
              "          google.colab.kernel.accessAllowed ? 'block' : 'none';\n",
              "\n",
              "        async function convertToInteractive(key) {\n",
              "          const element = document.querySelector('#df-49b3135d-1a57-48b8-b872-98fc58472c4c');\n",
              "          const dataTable =\n",
              "            await google.colab.kernel.invokeFunction('convertToInteractive',\n",
              "                                                     [key], {});\n",
              "          if (!dataTable) return;\n",
              "\n",
              "          const docLinkHtml = 'Like what you see? Visit the ' +\n",
              "            '<a target=\"_blank\" href=https://colab.research.google.com/notebooks/data_table.ipynb>data table notebook</a>'\n",
              "            + ' to learn more about interactive tables.';\n",
              "          element.innerHTML = '';\n",
              "          dataTable['output_type'] = 'display_data';\n",
              "          await google.colab.output.renderOutput(dataTable, element);\n",
              "          const docLink = document.createElement('div');\n",
              "          docLink.innerHTML = docLinkHtml;\n",
              "          element.appendChild(docLink);\n",
              "        }\n",
              "      </script>\n",
              "    </div>\n",
              "  </div>\n",
              "  "
            ]
          },
          "metadata": {},
          "execution_count": 24
        }
      ]
    },
    {
      "cell_type": "markdown",
      "source": [
        "### Как выглядит строка датасета в реальности"
      ],
      "metadata": {
        "id": "h-tB8FBf8QhT"
      }
    },
    {
      "cell_type": "code",
      "source": [
        "img = np.reshape(list(data_train.iloc[5][1:785]), (28, 28))\n",
        "plt.imshow(img)"
      ],
      "metadata": {
        "colab": {
          "base_uri": "https://localhost:8080/",
          "height": 282
        },
        "id": "OPFYUOHM6XD4",
        "outputId": "c5c02bd0-edb0-4479-fed1-96b3f9a47eef"
      },
      "execution_count": 25,
      "outputs": [
        {
          "output_type": "execute_result",
          "data": {
            "text/plain": [
              "<matplotlib.image.AxesImage at 0x7fbe89a014f0>"
            ]
          },
          "metadata": {},
          "execution_count": 25
        },
        {
          "output_type": "display_data",
          "data": {
            "text/plain": [
              "<Figure size 432x288 with 1 Axes>"
            ],
            "image/png": "[encoded data removed]"
          },
          "metadata": {
            "needs_background": "light"
          }
        }
      ]
    },
    {
      "cell_type": "markdown",
      "source": [
        "## Преобразуем к массиву"
      ],
      "metadata": {
        "id": "1Qw2Qyky6XM1"
      }
    },
    {
      "cell_type": "code",
      "source": [
        "data_train.to_numpy()"
      ],
      "metadata": {
        "colab": {
          "base_uri": "https://localhost:8080/"
        },
        "id": "NPErnmLB6XM2",
        "outputId": "c4ab3c32-83e7-4d80-a8a0-4884993f6799"
      },
      "execution_count": 26,
      "outputs": [
        {
          "output_type": "execute_result",
          "data": {
            "text/plain": [
              "array([[5, 0, 0, ..., 0, 0, 0],\n",
              "       [0, 0, 0, ..., 0, 0, 0],\n",
              "       [4, 0, 0, ..., 0, 0, 0],\n",
              "       ...,\n",
              "       [0, 0, 0, ..., 0, 0, 0],\n",
              "       [3, 0, 0, ..., 0, 0, 0],\n",
              "       [6, 0, 0, ..., 0, 0, 0]])"
            ]
          },
          "metadata": {},
          "execution_count": 26
        }
      ]
    },
    {
      "cell_type": "markdown",
      "source": [
        "## Отделим данные от меток"
      ],
      "metadata": {
        "id": "eE7Xo4Pz9nm2"
      }
    },
    {
      "cell_type": "code",
      "source": [
        "data_train_copy = data_train.copy()\n",
        "data_test_copy = data_test.copy()\n",
        "del data_train_copy['label']\n",
        "X_train = data_train_copy\n",
        "del data_test_copy['label']\n",
        "X_test = data_test_copy\n",
        "del data_train_copy\n",
        "del data_test_copy"
      ],
      "metadata": {
        "id": "abIs-8JI6XM3"
      },
      "execution_count": 27,
      "outputs": []
    },
    {
      "cell_type": "code",
      "source": [
        "X_train.shape, X_test.shape"
      ],
      "metadata": {
        "colab": {
          "base_uri": "https://localhost:8080/"
        },
        "id": "MKoidM3o-ALg",
        "outputId": "420c4645-8539-4f87-ac39-3e70b460368c"
      },
      "execution_count": 28,
      "outputs": [
        {
          "output_type": "execute_result",
          "data": {
            "text/plain": [
              "((1000, 784), (200, 784))"
            ]
          },
          "metadata": {},
          "execution_count": 28
        }
      ]
    },
    {
      "cell_type": "markdown",
      "source": [
        "## Нормализуем данные"
      ],
      "metadata": {
        "id": "8ZHTTO2Q6XSy"
      }
    },
    {
      "cell_type": "code",
      "source": [
        "X_train /= 255\n",
        "X_test /= 255"
      ],
      "metadata": {
        "id": "G-dSqqJO6XSy"
      },
      "execution_count": 29,
      "outputs": []
    },
    {
      "cell_type": "markdown",
      "source": [
        "## Закодируем метки классов"
      ],
      "metadata": {
        "id": "OjgmTbEE-ZT5"
      }
    },
    {
      "cell_type": "code",
      "source": [
        "encoding = OneHotEncoder(sparse=False, handle_unknown='error')\n",
        "labels = pd.concat([data_train[['label']], data_test[['label']]])\n",
        "encoding.fit(labels)\n",
        "y_train = pd.DataFrame(encoding.transform(data_train[['label']]))\n",
        "y_test = pd.DataFrame(encoding.fit_transform(data_test[['label']]))\n",
        "y_train"
      ],
      "metadata": {
        "colab": {
          "base_uri": "https://localhost:8080/",
          "height": 424
        },
        "id": "suTMrP9v6XSy",
        "outputId": "d8a003b3-94c1-4d07-d553-98271b83cdba"
      },
      "execution_count": 30,
      "outputs": [
        {
          "output_type": "execute_result",
          "data": {
            "text/plain": [
              "       0    1    2    3    4    5    6    7    8    9\n",
              "0    0.0  0.0  0.0  0.0  0.0  1.0  0.0  0.0  0.0  0.0\n",
              "1    1.0  0.0  0.0  0.0  0.0  0.0  0.0  0.0  0.0  0.0\n",
              "2    0.0  0.0  0.0  0.0  1.0  0.0  0.0  0.0  0.0  0.0\n",
              "3    0.0  1.0  0.0  0.0  0.0  0.0  0.0  0.0  0.0  0.0\n",
              "4    0.0  0.0  0.0  0.0  0.0  0.0  0.0  0.0  0.0  1.0\n",
              "..   ...  ...  ...  ...  ...  ...  ...  ...  ...  ...\n",
              "995  0.0  0.0  0.0  0.0  0.0  0.0  0.0  1.0  0.0  0.0\n",
              "996  0.0  0.0  0.0  0.0  0.0  0.0  1.0  0.0  0.0  0.0\n",
              "997  1.0  0.0  0.0  0.0  0.0  0.0  0.0  0.0  0.0  0.0\n",
              "998  0.0  0.0  0.0  1.0  0.0  0.0  0.0  0.0  0.0  0.0\n",
              "999  0.0  0.0  0.0  0.0  0.0  0.0  1.0  0.0  0.0  0.0\n",
              "\n",
              "[1000 rows x 10 columns]"
            ],
            "text/html": [
              "\n",
              "  <div id=\"df-f80d1117-f644-4a34-a599-65c4ed92e266\">\n",
              "    <div class=\"colab-df-container\">\n",
              "      <div>\n",
              "<style scoped>\n",
              "    .dataframe tbody tr th:only-of-type {\n",
              "        vertical-align: middle;\n",
              "    }\n",
              "\n",
              "    .dataframe tbody tr th {\n",
              "        vertical-align: top;\n",
              "    }\n",
              "\n",
              "    .dataframe thead th {\n",
              "        text-align: right;\n",
              "    }\n",
              "</style>\n",
              "<table border=\"1\" class=\"dataframe\">\n",
              "  <thead>\n",
              "    <tr style=\"text-align: right;\">\n",
              "      <th></th>\n",
              "      <th>0</th>\n",
              "      <th>1</th>\n",
              "      <th>2</th>\n",
              "      <th>3</th>\n",
              "      <th>4</th>\n",
              "      <th>5</th>\n",
              "      <th>6</th>\n",
              "      <th>7</th>\n",
              "      <th>8</th>\n",
              "      <th>9</th>\n",
              "    </tr>\n",
              "  </thead>\n",
              "  <tbody>\n",
              "    <tr>\n",
              "      <th>0</th>\n",
              "      <td>0.0</td>\n",
              "      <td>0.0</td>\n",
              "      <td>0.0</td>\n",
              "      <td>0.0</td>\n",
              "      <td>0.0</td>\n",
              "      <td>1.0</td>\n",
              "      <td>0.0</td>\n",
              "      <td>0.0</td>\n",
              "      <td>0.0</td>\n",
              "      <td>0.0</td>\n",
              "    </tr>\n",
              "    <tr>\n",
              "      <th>1</th>\n",
              "      <td>1.0</td>\n",
              "      <td>0.0</td>\n",
              "      <td>0.0</td>\n",
              "      <td>0.0</td>\n",
              "      <td>0.0</td>\n",
              "      <td>0.0</td>\n",
              "      <td>0.0</td>\n",
              "      <td>0.0</td>\n",
              "      <td>0.0</td>\n",
              "      <td>0.0</td>\n",
              "    </tr>\n",
              "    <tr>\n",
              "      <th>2</th>\n",
              "      <td>0.0</td>\n",
              "      <td>0.0</td>\n",
              "      <td>0.0</td>\n",
              "      <td>0.0</td>\n",
              "      <td>1.0</td>\n",
              "      <td>0.0</td>\n",
              "      <td>0.0</td>\n",
              "      <td>0.0</td>\n",
              "      <td>0.0</td>\n",
              "      <td>0.0</td>\n",
              "    </tr>\n",
              "    <tr>\n",
              "      <th>3</th>\n",
              "      <td>0.0</td>\n",
              "      <td>1.0</td>\n",
              "      <td>0.0</td>\n",
              "      <td>0.0</td>\n",
              "      <td>0.0</td>\n",
              "      <td>0.0</td>\n",
              "      <td>0.0</td>\n",
              "      <td>0.0</td>\n",
              "      <td>0.0</td>\n",
              "      <td>0.0</td>\n",
              "    </tr>\n",
              "    <tr>\n",
              "      <th>4</th>\n",
              "      <td>0.0</td>\n",
              "      <td>0.0</td>\n",
              "      <td>0.0</td>\n",
              "      <td>0.0</td>\n",
              "      <td>0.0</td>\n",
              "      <td>0.0</td>\n",
              "      <td>0.0</td>\n",
              "      <td>0.0</td>\n",
              "      <td>0.0</td>\n",
              "      <td>1.0</td>\n",
              "    </tr>\n",
              "    <tr>\n",
              "      <th>...</th>\n",
              "      <td>...</td>\n",
              "      <td>...</td>\n",
              "      <td>...</td>\n",
              "      <td>...</td>\n",
              "      <td>...</td>\n",
              "      <td>...</td>\n",
              "      <td>...</td>\n",
              "      <td>...</td>\n",
              "      <td>...</td>\n",
              "      <td>...</td>\n",
              "    </tr>\n",
              "    <tr>\n",
              "      <th>995</th>\n",
              "      <td>0.0</td>\n",
              "      <td>0.0</td>\n",
              "      <td>0.0</td>\n",
              "      <td>0.0</td>\n",
              "      <td>0.0</td>\n",
              "      <td>0.0</td>\n",
              "      <td>0.0</td>\n",
              "      <td>1.0</td>\n",
              "      <td>0.0</td>\n",
              "      <td>0.0</td>\n",
              "    </tr>\n",
              "    <tr>\n",
              "      <th>996</th>\n",
              "      <td>0.0</td>\n",
              "      <td>0.0</td>\n",
              "      <td>0.0</td>\n",
              "      <td>0.0</td>\n",
              "      <td>0.0</td>\n",
              "      <td>0.0</td>\n",
              "      <td>1.0</td>\n",
              "      <td>0.0</td>\n",
              "      <td>0.0</td>\n",
              "      <td>0.0</td>\n",
              "    </tr>\n",
              "    <tr>\n",
              "      <th>997</th>\n",
              "      <td>1.0</td>\n",
              "      <td>0.0</td>\n",
              "      <td>0.0</td>\n",
              "      <td>0.0</td>\n",
              "      <td>0.0</td>\n",
              "      <td>0.0</td>\n",
              "      <td>0.0</td>\n",
              "      <td>0.0</td>\n",
              "      <td>0.0</td>\n",
              "      <td>0.0</td>\n",
              "    </tr>\n",
              "    <tr>\n",
              "      <th>998</th>\n",
              "      <td>0.0</td>\n",
              "      <td>0.0</td>\n",
              "      <td>0.0</td>\n",
              "      <td>1.0</td>\n",
              "      <td>0.0</td>\n",
              "      <td>0.0</td>\n",
              "      <td>0.0</td>\n",
              "      <td>0.0</td>\n",
              "      <td>0.0</td>\n",
              "      <td>0.0</td>\n",
              "    </tr>\n",
              "    <tr>\n",
              "      <th>999</th>\n",
              "      <td>0.0</td>\n",
              "      <td>0.0</td>\n",
              "      <td>0.0</td>\n",
              "      <td>0.0</td>\n",
              "      <td>0.0</td>\n",
              "      <td>0.0</td>\n",
              "      <td>1.0</td>\n",
              "      <td>0.0</td>\n",
              "      <td>0.0</td>\n",
              "      <td>0.0</td>\n",
              "    </tr>\n",
              "  </tbody>\n",
              "</table>\n",
              "<p>1000 rows × 10 columns</p>\n",
              "</div>\n",
              "      <button class=\"colab-df-convert\" onclick=\"convertToInteractive('df-f80d1117-f644-4a34-a599-65c4ed92e266')\"\n",
              "              title=\"Convert this dataframe to an interactive table.\"\n",
              "              style=\"display:none;\">\n",
              "        \n",
              "  <svg xmlns=\"http://www.w3.org/2000/svg\" height=\"24px\"viewBox=\"0 0 24 24\"\n",
              "       width=\"24px\">\n",
              "    <path d=\"M0 0h24v24H0V0z\" fill=\"none\"/>\n",
              "    <path d=\"M18.56 5.44l.94 2.06.94-2.06 2.06-.94-2.06-.94-.94-2.06-.94 2.06-2.06.94zm-11 1L8.5 8.5l.94-2.06 2.06-.94-2.06-.94L8.5 2.5l-.94 2.06-2.06.94zm10 10l.94 2.06.94-2.06 2.06-.94-2.06-.94-.94-2.06-.94 2.06-2.06.94z\"/><path d=\"M17.41 7.96l-1.37-1.37c-.4-.4-.92-.59-1.43-.59-.52 0-1.04.2-1.43.59L10.3 9.45l-7.72 7.72c-.78.78-.78 2.05 0 2.83L4 21.41c.39.39.9.59 1.41.59.51 0 1.02-.2 1.41-.59l7.78-7.78 2.81-2.81c.8-.78.8-2.07 0-2.86zM5.41 20L4 18.59l7.72-7.72 1.47 1.35L5.41 20z\"/>\n",
              "  </svg>\n",
              "      </button>\n",
              "      \n",
              "  <style>\n",
              "    .colab-df-container {\n",
              "      display:flex;\n",
              "      flex-wrap:wrap;\n",
              "      gap: 12px;\n",
              "    }\n",
              "\n",
              "    .colab-df-convert {\n",
              "      background-color: #E8F0FE;\n",
              "      border: none;\n",
              "      border-radius: 50%;\n",
              "      cursor: pointer;\n",
              "      display: none;\n",
              "      fill: #1967D2;\n",
              "      height: 32px;\n",
              "      padding: 0 0 0 0;\n",
              "      width: 32px;\n",
              "    }\n",
              "\n",
              "    .colab-df-convert:hover {\n",
              "      background-color: #E2EBFA;\n",
              "      box-shadow: 0px 1px 2px rgba(60, 64, 67, 0.3), 0px 1px 3px 1px rgba(60, 64, 67, 0.15);\n",
              "      fill: #174EA6;\n",
              "    }\n",
              "\n",
              "    [theme=dark] .colab-df-convert {\n",
              "      background-color: #3B4455;\n",
              "      fill: #D2E3FC;\n",
              "    }\n",
              "\n",
              "    [theme=dark] .colab-df-convert:hover {\n",
              "      background-color: #434B5C;\n",
              "      box-shadow: 0px 1px 3px 1px rgba(0, 0, 0, 0.15);\n",
              "      filter: drop-shadow(0px 1px 2px rgba(0, 0, 0, 0.3));\n",
              "      fill: #FFFFFF;\n",
              "    }\n",
              "  </style>\n",
              "\n",
              "      <script>\n",
              "        const buttonEl =\n",
              "          document.querySelector('#df-f80d1117-f644-4a34-a599-65c4ed92e266 button.colab-df-convert');\n",
              "        buttonEl.style.display =\n",
              "          google.colab.kernel.accessAllowed ? 'block' : 'none';\n",
              "\n",
              "        async function convertToInteractive(key) {\n",
              "          const element = document.querySelector('#df-f80d1117-f644-4a34-a599-65c4ed92e266');\n",
              "          const dataTable =\n",
              "            await google.colab.kernel.invokeFunction('convertToInteractive',\n",
              "                                                     [key], {});\n",
              "          if (!dataTable) return;\n",
              "\n",
              "          const docLinkHtml = 'Like what you see? Visit the ' +\n",
              "            '<a target=\"_blank\" href=https://colab.research.google.com/notebooks/data_table.ipynb>data table notebook</a>'\n",
              "            + ' to learn more about interactive tables.';\n",
              "          element.innerHTML = '';\n",
              "          dataTable['output_type'] = 'display_data';\n",
              "          await google.colab.output.renderOutput(dataTable, element);\n",
              "          const docLink = document.createElement('div');\n",
              "          docLink.innerHTML = docLinkHtml;\n",
              "          element.appendChild(docLink);\n",
              "        }\n",
              "      </script>\n",
              "    </div>\n",
              "  </div>\n",
              "  "
            ]
          },
          "metadata": {},
          "execution_count": 30
        }
      ]
    },
    {
      "cell_type": "markdown",
      "source": [
        "## Финальный штрих. Приведем все датасеты к массивам для дальнейшей работы"
      ],
      "metadata": {
        "id": "YI8tTAaP6XW3"
      }
    },
    {
      "cell_type": "code",
      "source": [
        "X_test = X_test.to_numpy()\n",
        "y_train = y_train.to_numpy()\n",
        "X_train = X_train.to_numpy()\n",
        "y_test = y_test.to_numpy()"
      ],
      "metadata": {
        "id": "JWwk72Pc6XW4"
      },
      "execution_count": 31,
      "outputs": []
    },
    {
      "cell_type": "markdown",
      "source": [
        "# Работа с алгоритмом"
      ],
      "metadata": {
        "id": "bqvJBo_k6Xa0"
      }
    },
    {
      "cell_type": "markdown",
      "source": [
        "## Функции активации"
      ],
      "metadata": {
        "id": "7chdypdF_0v9"
      }
    },
    {
      "cell_type": "code",
      "source": [
        "def relu(x):\n",
        "    return (x > 0) * x \n",
        "\n",
        "def relu_two_deriv(output):\n",
        "    return output>0 "
      ],
      "metadata": {
        "id": "IAu54EZL6Xa0"
      },
      "execution_count": 32,
      "outputs": []
    },
    {
      "cell_type": "markdown",
      "source": [
        "## Модель предсказания сети "
      ],
      "metadata": {
        "id": "atD4G_BN_49F"
      }
    },
    {
      "cell_type": "code",
      "source": [
        "def model_prediction(input, weights_0_1, weights_1_2):\n",
        "  layer_0 = input\n",
        "  layer_1 = relu(np.dot(layer_0,weights_0_1))\n",
        "  layer_2 = np.dot(layer_1,weights_1_2)\n",
        "  return layer_2"
      ],
      "metadata": {
        "id": "E7eT1DGD6Xa1"
      },
      "execution_count": 33,
      "outputs": []
    },
    {
      "cell_type": "markdown",
      "source": [
        "## Стохастический градиентный спуск"
      ],
      "metadata": {
        "id": "8Y5_-1Jo6XlM"
      }
    },
    {
      "cell_type": "code",
      "source": [
        "np.random.seed(1)\n",
        "\n",
        "learning_rate = 0.005\n",
        "hidden_size = 40\n",
        "input_size = 784\n",
        "num_labels = 10\n",
        "dropout_ratio = 0.5\n",
        "EPOCHS = 6\n",
        "\n",
        "weights_input_hidden = (2*np.random.random((input_size,hidden_size)) - 1) / np.sqrt(input_size) #веса между входным и скрытым слоями\n",
        "weights_hidden_output = (2*np.random.random((hidden_size, num_labels)) - 1) / np.sqrt(hidden_size) #веса между скрытым и выходным слоями \n",
        "\n",
        "array_iteration = []\n",
        "array_error = []\n",
        "array_accuracy = []\n",
        "\n",
        "\n",
        "for iteration in range(EPOCHS):\n",
        "   error = 0\n",
        "   for i in range(len(X_train)):\n",
        "     #forward pass\n",
        "     input_layer = X_train[i:i+1]\n",
        "     hidden_layer = relu(np.dot(input_layer,weights_input_hidden))\n",
        "     mask = np.random.binomial(size=hidden_layer.shape, n=1, p=dropout_ratio)\n",
        "     hidden_layer = hidden_layer*mask\n",
        "     hidden_layer = hidden_layer * 1/(1 - dropout_ratio) \n",
        "     output_layer = np.dot(hidden_layer,weights_hidden_output) \n",
        "\n",
        "     error+= np.sum((output_layer - y_train[i:i+1]) ** 2)\n",
        "\n",
        "     #backward pass\n",
        "     diff_between_output_hidden = 2*(output_layer - y_train[i:i+1])\n",
        "     weight_hidden_output_corrections = hidden_layer.T.dot(diff_between_output_hidden) #величина коррекции для весов между layer_1 и layer_2\n",
        "    \n",
        "     diff_between_hidden_input = diff_between_output_hidden.dot(weights_hidden_output.T)*relu_two_deriv(hidden_layer)\n",
        "     diff_between_hidden_input = diff_between_hidden_input*mask\n",
        "     diff_between_hidden_input = diff_between_hidden_input * 1/(1 - dropout_ratio) # 1/1-p\n",
        "     weight_input_hidden_corrections = input_layer.T.dot(diff_between_hidden_input)\n",
        "\n",
        "     weights_hidden_output = weights_hidden_output - learning_rate * weight_hidden_output_corrections\n",
        "     weights_input_hidden = weights_input_hidden - learning_rate * weight_input_hidden_corrections\n",
        "\n",
        "   if(iteration % 1 == 0):\n",
        "      array_iteration.append(iteration)\n",
        "      array_error.append(error)\n",
        "      goal_idx = np.argmax(y_train[:100], axis=1)\n",
        "      y_pred = model_prediction(X_train[:100], weights_input_hidden, weights_hidden_output)\n",
        "      pred_idx = np.argmax(y_pred, axis=1)\n",
        "      accuracy = accuracy_score(goal_idx ,pred_idx)\n",
        "      array_accuracy.append(accuracy)\n",
        "      print(\"epoch:\" + str(iteration) + \"  Error:\" + str(error) + \" Acc:\" + str(accuracy))"
      ],
      "metadata": {
        "colab": {
          "base_uri": "https://localhost:8080/"
        },
        "id": "92W9txvm6XlN",
        "outputId": "ec90b426-234a-45fc-976d-5423bc813808"
      },
      "execution_count": 34,
      "outputs": [
        {
          "output_type": "stream",
          "name": "stdout",
          "text": [
            "epoch:0  Error:763.083556506058 Acc:0.79\n",
            "epoch:1  Error:598.4188657898604 Acc:0.84\n",
            "epoch:2  Error:540.9682055371612 Acc:0.91\n",
            "epoch:3  Error:518.4441203719691 Acc:0.87\n",
            "epoch:4  Error:485.2117056754537 Acc:0.92\n",
            "epoch:5  Error:458.4891201612029 Acc:0.95\n"
          ]
        }
      ]
    },
    {
      "cell_type": "markdown",
      "source": [
        "## Построение графиков"
      ],
      "metadata": {
        "id": "MbvjqkcLHdqY"
      }
    },
    {
      "cell_type": "code",
      "source": [
        "graph = plt.figure(figsize=(12, 10), constrained_layout=False)\n",
        "\n",
        "error_range = np.linspace(0.18, 0)\n",
        "\n",
        "subgraph_1 = graph.add_subplot(221)\n",
        "subgraph_1.plot(array_iteration, array_error)\n",
        "subgraph_1.set_title('Error')\n",
        "plt.grid()\n",
        "\n",
        "subgraph_2 = graph.add_subplot(222)\n",
        "subgraph_2.plot(array_iteration, array_accuracy)\n",
        "subgraph_2.set_title('Accuracy')\n",
        "plt.grid()"
      ],
      "metadata": {
        "colab": {
          "base_uri": "https://localhost:8080/",
          "height": 311
        },
        "id": "TTY9mSul6XlO",
        "outputId": "a16e0e42-4478-45c1-d4e5-663e2b3229f3"
      },
      "execution_count": 35,
      "outputs": [
        {
          "output_type": "display_data",
          "data": {
            "text/plain": [
              "<Figure size 864x720 with 2 Axes>"
            ],
            "image/png": "[encoded data removed]"
          },
          "metadata": {
            "needs_background": "light"
          }
        }
      ]
    },
    {
      "cell_type": "markdown",
      "source": [
        "## Пакетный градиентный спуск"
      ],
      "metadata": {
        "id": "WhKELcJKHjx_"
      }
    },
    {
      "cell_type": "code",
      "source": [
        "learning_rate = 0.005\n",
        "hidden_size = 64\n",
        "input_size = 784\n",
        "num_labels = 10\n",
        "batch_size = 32\n",
        "n_iterations = len(X_train) // batch_size\n",
        "counts_epochs  = 3\n",
        "dropout_ratio = 0.5\n",
        "\n",
        "weights_input_hidden_batch = (2*np.random.random((input_size,hidden_size)) - 1) / np.sqrt(input_size) #веса между входным и скрытым слоями\n",
        "weights_hidden_output_batch = (2*np.random.random((hidden_size, num_labels)) - 1) / np.sqrt(hidden_size) #веса между скрытым и выходным слоями \n",
        "\n",
        "array_iteration_batch = []\n",
        "array_error_batch = []\n",
        "array_accuracy_batch = []\n",
        "\n",
        "\n",
        "for epoch in range(counts_epochs):\n",
        "   error = 0\n",
        "   for i in range(n_iterations):\n",
        "     #forward pass\n",
        "     input_layer_batch = X_train[i * batch_size:(i+1) * batch_size]\n",
        "     hidden_layer_batch = relu(np.dot(input_layer_batch, weights_input_hidden_batch))\n",
        "     mask = np.random.binomial(size=hidden_layer_batch.shape, n=1, p=dropout_ratio)\n",
        "     hidden_layer_batch = hidden_layer_batch*mask\n",
        "     hidden_layer_batch *= 1/(1 - dropout_ratio) # 1/1-p\n",
        "     output_layer_batch = np.dot(hidden_layer_batch, weights_hidden_output_batch)\n",
        "\n",
        "     error += np.mean((output_layer_batch - y_train[i * batch_size:(i+1) * batch_size]) ** 2)\n",
        "\n",
        "     #backward pass\n",
        "     diff_between_output_hidden_batch = 2*(output_layer_batch - y_train[i * batch_size:(i+1) * batch_size]) \n",
        "     weight_output_hidden_batch_corrections = hidden_layer_batch.T.dot(diff_between_output_hidden_batch) #величина коррекции для весов между layer_1 и layer_2\n",
        "    \n",
        "     diff_between_hidden_input_batch = diff_between_output_hidden_batch.dot(weights_hidden_output_batch.T)*relu_two_deriv(hidden_layer_batch)\n",
        "     diff_between_hidden_input_batch = diff_between_hidden_input_batch*mask\n",
        "     diff_between_hidden_input_batch = diff_between_hidden_input_batch * 1/(1 - dropout_ratio) # 1/1-p\n",
        "     weight_hidden_input_batch_corrections = input_layer_batch.T.dot(diff_between_hidden_input_batch)\n",
        "\n",
        "     weights_hidden_output_batch = weights_hidden_output_batch - learning_rate * weight_output_hidden_batch_corrections\n",
        "     weights_input_hidden_batch = weights_input_hidden_batch - learning_rate * weight_hidden_input_batch_corrections\n",
        "\n",
        "   if(epoch % 1 == 0):\n",
        "      print(\"Error:\", error / n_iterations) # mean accross training set\n",
        "      array_iteration_batch.append(epoch)\n",
        "      array_error_batch.append(error)\n",
        "      goal_idx = np.argmax(y_train[:100], axis=1)\n",
        "      y_pred = model_prediction(X_train[:100], weights_input_hidden_batch, weights_hidden_output_batch)\n",
        "      pred_idx = np.argmax(y_pred, axis=1)\n",
        "      accuracy = accuracy_score(goal_idx ,pred_idx)\n",
        "      array_accuracy_batch.append(accuracy)\n",
        "      print(\"Acc:\", str(accuracy))\n",
        "    "
      ],
      "metadata": {
        "colab": {
          "base_uri": "https://localhost:8080/"
        },
        "id": "rjnCJPCmHkHI",
        "outputId": "e81ce898-e39b-4a5b-92ce-9053e860a420"
      },
      "execution_count": 36,
      "outputs": [
        {
          "output_type": "stream",
          "name": "stdout",
          "text": [
            "Error: 0.07691419818570673\n",
            "Acc: 0.75\n",
            "Error: 0.056789232992871315\n",
            "Acc: 0.83\n",
            "Error: 0.04957458943379732\n",
            "Acc: 0.86\n"
          ]
        }
      ]
    },
    {
      "cell_type": "markdown",
      "source": [
        "## Построение графиков"
      ],
      "metadata": {
        "id": "HOVC5U5WHkdv"
      }
    },
    {
      "cell_type": "code",
      "source": [
        "graph_batch = plt.figure(figsize=(12, 10), constrained_layout=False)\n",
        "\n",
        "error_range = np.linspace(0.15, 0)\n",
        "\n",
        "subgraph_batch_1 = graph_batch.add_subplot(221)\n",
        "subgraph_batch_1.plot(array_iteration_batch, array_error_batch)\n",
        "subgraph_batch_1.set_title('Error')\n",
        "plt.grid()\n",
        "\n",
        "subgraph_batch_2 = graph_batch.add_subplot(222)\n",
        "subgraph_batch_2.plot(array_iteration_batch, array_accuracy_batch)\n",
        "subgraph_batch_2.set_title('Accuracy')\n",
        "plt.grid()"
      ],
      "metadata": {
        "colab": {
          "base_uri": "https://localhost:8080/",
          "height": 311
        },
        "id": "JS9S9qSjHkxn",
        "outputId": "054b57d7-452e-4b18-c1de-f371a8929bc6"
      },
      "execution_count": 37,
      "outputs": [
        {
          "output_type": "display_data",
          "data": {
            "text/plain": [
              "<Figure size 864x720 with 2 Axes>"
            ],
            "image/png": "[encoded data removed]"
          },
          "metadata": {
            "needs_background": "light"
          }
        }
      ]
    },
    {
      "cell_type": "markdown",
      "source": [
        "## Предсказание"
      ],
      "metadata": {
        "id": "Vg4YCpfIL-jo"
      }
    },
    {
      "cell_type": "code",
      "source": [
        "goal_idx = np.argmax(y_test, axis=1)\n",
        "y_pred = model_prediction(X_test, weights_input_hidden_batch, weights_hidden_output_batch)\n",
        "pred_idx = np.argmax(y_pred, axis=1)\n",
        "acc = accuracy_score(goal_idx ,pred_idx)\n",
        "array_accuracy_batch.append(acc)\n",
        "print(\"Test Acc:\", acc)"
      ],
      "metadata": {
        "colab": {
          "base_uri": "https://localhost:8080/"
        },
        "id": "uGjMJGRVLv4y",
        "outputId": "c29120b2-7a5f-4b1b-d3e3-d8e5dd725f66"
      },
      "execution_count": 38,
      "outputs": [
        {
          "output_type": "stream",
          "name": "stdout",
          "text": [
            "Test Acc: 0.815\n"
          ]
        }
      ]
    }
  ]
}